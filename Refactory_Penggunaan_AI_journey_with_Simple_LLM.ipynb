{
  "nbformat": 4,
  "nbformat_minor": 0,
  "metadata": {
    "colab": {
      "provenance": []
    },
    "kernelspec": {
      "name": "python3",
      "display_name": "Python 3"
    },
    "language_info": {
      "name": "python"
    }
  },
  "cells": [
    {
      "cell_type": "code",
      "execution_count": 1,
      "metadata": {
        "id": "1wYiouRIOwGl"
      },
      "outputs": [],
      "source": [
        "from transformers import pipeline"
      ]
    },
    {
      "cell_type": "code",
      "source": [
        "from google.colab import drive\n",
        "drive.mount('/content/drive')"
      ],
      "metadata": {
        "colab": {
          "base_uri": "https://localhost:8080/"
        },
        "id": "lFaoZV7QPTFi",
        "outputId": "6c94f48e-8613-428a-ed6f-b0c9d8ebf1b0"
      },
      "execution_count": 5,
      "outputs": [
        {
          "output_type": "stream",
          "name": "stdout",
          "text": [
            "Mounted at /content/drive\n"
          ]
        }
      ]
    },
    {
      "cell_type": "code",
      "source": [
        "pipe_kwargs = {\n",
        "    \"top_k\" : None,\n",
        "    \"batch_size\" :16\n",
        "}\n",
        "\n",
        "path = F\"/content/drive/My Drive/distilber-dana-mini\"\n",
        "text = \"Aplikasi Terbaik Sepanjang Masa\"\n",
        "\n",
        "reward_pipe = pipeline(\"sentiment-analysis\", path, device=-1)\n",
        "reward_output = reward_pipe(text, **pipe_kwargs)\n",
        "\n",
        "print(reward_output)"
      ],
      "metadata": {
        "colab": {
          "base_uri": "https://localhost:8080/"
        },
        "id": "e5e29ppUPVTl",
        "outputId": "db42c5e7-ce51-4d43-be29-23d394dd592c"
      },
      "execution_count": 7,
      "outputs": [
        {
          "output_type": "stream",
          "name": "stdout",
          "text": [
            "[{'label': 'LABEL_1', 'score': 0.9128317832946777}, {'label': 'LABEL_0', 'score': 0.08716828376054764}]\n"
          ]
        }
      ]
    }
  ]
}